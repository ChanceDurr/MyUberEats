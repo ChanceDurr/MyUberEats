{
  "nbformat": 4,
  "nbformat_minor": 0,
  "metadata": {
    "colab": {
      "name": "myubereats.ipynb",
      "version": "0.3.2",
      "provenance": [],
      "collapsed_sections": [],
      "include_colab_link": true
    },
    "kernelspec": {
      "name": "python3",
      "display_name": "Python 3"
    }
  },
  "cells": [
    {
      "cell_type": "markdown",
      "metadata": {
        "id": "view-in-github",
        "colab_type": "text"
      },
      "source": [
        "<a href=\"https://colab.research.google.com/github/ChanceDurr/MyUberEats/blob/master/myubereats.ipynb\" target=\"_parent\"><img src=\"https://colab.research.google.com/assets/colab-badge.svg\" alt=\"Open In Colab\"/></a>"
      ]
    },
    {
      "cell_type": "code",
      "metadata": {
        "id": "xAEuy4b4yKBk",
        "colab_type": "code",
        "colab": {}
      },
      "source": [
        "import pandas as pd\n",
        "import matplotlib.pyplot as plt"
      ],
      "execution_count": 0,
      "outputs": []
    },
    {
      "cell_type": "code",
      "metadata": {
        "id": "y7LXir9oyT2W",
        "colab_type": "code",
        "colab": {}
      },
      "source": [
        "df = pd.read_csv('https://raw.githubusercontent.com/ChanceDurr/MyUberEats/master/uber_hist.csv')\n",
        "\n",
        "# Replace all of the NaN's with 0's\n",
        "df = df.fillna(0)\n",
        "\n",
        "# Add a column for the total without the tip\n",
        "df['total_no_tip'] = df['total'] - df['tips']\n",
        "\n",
        "# Delete rows with no information\n",
        "df = df.drop(range(49, 62))\n",
        "\n",
        "# Chance the timestamp to datetime format\n",
        "df['timestamp_pickup'] = pd.to_datetime(df['timestamp_pickup'])"
      ],
      "execution_count": 0,
      "outputs": []
    },
    {
      "cell_type": "code",
      "metadata": {
        "id": "7HhNpdroyXwc",
        "colab_type": "code",
        "colab": {
          "base_uri": "https://localhost:8080/",
          "height": 145
        },
        "outputId": "e2612a84-41f8-4ad6-a8c5-e70039f5b295"
      },
      "source": [
        "num_deliveries = df.shape[0] - 1\n",
        "print(f'Number of deliveries: {num_deliveries}')\n",
        "\n",
        "earliest_delivery = df['timestamp_pickup'].min()\n",
        "print(f'Earliest Delivery: {earliest_delivery}')\n",
        "\n",
        "latest_delivery = df['timestamp_pickup'].max()\n",
        "print(f'Latest Delivery: {latest_delivery}')\n",
        "\n",
        "mean_duration = df['duration_min'].mean()\n",
        "print(f'Mean Duration(min): {mean_duration}')\n",
        " \n",
        "mean_total_no_tip = df['total_no_tip'].mean()\n",
        "print(f'Mean Total no Tip: {mean_total_no_tip}')"
      ],
      "execution_count": 306,
      "outputs": [
        {
          "output_type": "stream",
          "text": [
            "Number of deliveries: 48\n",
            "Earliest Delivery: 2019-05-18 16:53:00\n",
            "Latest Delivery: 2019-06-13 20:35:00\n",
            "Mean Duration(min): 20.21805102040816\n",
            "Mean Total no Tip: 8.224897959183673\n"
          ],
          "name": "stdout"
        }
      ]
    },
    {
      "cell_type": "code",
      "metadata": {
        "id": "hRE3MNoj_wzc",
        "colab_type": "code",
        "colab": {}
      },
      "source": [
        "# Create a subset for deliveries less than 20 minutes\n",
        "df_shorttrips = df[df['duration_min'] < 20]\n",
        "\n",
        "# Create a subset for deliveries more than 20 minutes\n",
        "df_longtrips = df[df['duration_min'] >= 20]"
      ],
      "execution_count": 0,
      "outputs": []
    },
    {
      "cell_type": "code",
      "metadata": {
        "id": "sWGzNBubBlVp",
        "colab_type": "code",
        "colab": {
          "base_uri": "https://localhost:8080/",
          "height": 111
        },
        "outputId": "565ef8f7-5fbe-41fd-c412-0bbcf4acb3f0"
      },
      "source": [
        "# Get some basic stats on the short trip subset\n",
        "short_trip_max_total = df_shorttrips['total_no_tip'].max()\n",
        "short_trip_min_total = df_shorttrips['total_no_tip'].min()\n",
        "short_trip_mean = df_shorttrips['total_no_tip'].mean()\n",
        "\n",
        "print(f'''Short trip max total: {short_trip_max_total}\n",
        "Short trip min total: {short_trip_min_total}\n",
        "Short trip mean: {short_trip_mean}''')"
      ],
      "execution_count": 308,
      "outputs": [
        {
          "output_type": "stream",
          "text": [
            "Short trip max total: 10.0\n",
            "Short trip min total: 3.49\n",
            "Short trip mean: 5.721666666666668\n"
          ],
          "name": "stdout"
        }
      ]
    },
    {
      "cell_type": "code",
      "metadata": {
        "id": "cbLPP7RHBnqv",
        "colab_type": "code",
        "colab": {
          "base_uri": "https://localhost:8080/",
          "height": 111
        },
        "outputId": "ae06d45b-0b2e-48a1-a4a5-43992cefd874"
      },
      "source": [
        "# Get some basic stats on the long trip subset\n",
        "long_trip_max_total = df_longtrips['total_no_tip'].max()\n",
        "long_trip_min_total = df_longtrips['total_no_tip'].min()\n",
        "long_trip_mean = df_longtrips['total_no_tip'].mean()\n",
        "\n",
        "print(f'''Long trip max total: {long_trip_max_total}\n",
        "Long trip min total: {long_trip_min_total}\n",
        "Long trip mean: {long_trip_mean}''')"
      ],
      "execution_count": 309,
      "outputs": [
        {
          "output_type": "stream",
          "text": [
            "Long trip max total: 16.8\n",
            "Long trip min total: 5.45\n",
            "Long trip mean: 10.627999999999997\n"
          ],
          "name": "stdout"
        }
      ]
    },
    {
      "cell_type": "code",
      "metadata": {
        "id": "Cczn24MjBvBI",
        "colab_type": "code",
        "colab": {
          "base_uri": "https://localhost:8080/",
          "height": 248
        },
        "outputId": "2e6bb682-58bb-496a-9f4a-d0b6ad40ab0b"
      },
      "source": [
        "df.head()"
      ],
      "execution_count": 310,
      "outputs": [
        {
          "output_type": "execute_result",
          "data": {
            "text/html": [
              "<div>\n",
              "<style scoped>\n",
              "    .dataframe tbody tr th:only-of-type {\n",
              "        vertical-align: middle;\n",
              "    }\n",
              "\n",
              "    .dataframe tbody tr th {\n",
              "        vertical-align: top;\n",
              "    }\n",
              "\n",
              "    .dataframe thead th {\n",
              "        text-align: right;\n",
              "    }\n",
              "</style>\n",
              "<table border=\"1\" class=\"dataframe\">\n",
              "  <thead>\n",
              "    <tr style=\"text-align: right;\">\n",
              "      <th></th>\n",
              "      <th>timestamp_pickup</th>\n",
              "      <th>day_of_week</th>\n",
              "      <th>start_city</th>\n",
              "      <th>end_city</th>\n",
              "      <th>double_delivery</th>\n",
              "      <th>duration_min</th>\n",
              "      <th>distance_miles</th>\n",
              "      <th>paid_distance</th>\n",
              "      <th>paid_time</th>\n",
              "      <th>min_fare_supplement</th>\n",
              "      <th>pickup_fee</th>\n",
              "      <th>dropoff_fee</th>\n",
              "      <th>tips</th>\n",
              "      <th>surge</th>\n",
              "      <th>boost</th>\n",
              "      <th>uber_receives</th>\n",
              "      <th>total</th>\n",
              "      <th>total_no_tip</th>\n",
              "    </tr>\n",
              "  </thead>\n",
              "  <tbody>\n",
              "    <tr>\n",
              "      <th>0</th>\n",
              "      <td>2019-05-18 16:53:00</td>\n",
              "      <td>Saturday</td>\n",
              "      <td>Auburn</td>\n",
              "      <td>Auburn</td>\n",
              "      <td>0.0</td>\n",
              "      <td>21.3000</td>\n",
              "      <td>5.22</td>\n",
              "      <td>2.19</td>\n",
              "      <td>3.43</td>\n",
              "      <td>0.0</td>\n",
              "      <td>1.05</td>\n",
              "      <td>0.7</td>\n",
              "      <td>0.0</td>\n",
              "      <td>0.0</td>\n",
              "      <td>0.0</td>\n",
              "      <td>3.16</td>\n",
              "      <td>7.37</td>\n",
              "      <td>7.37</td>\n",
              "    </tr>\n",
              "    <tr>\n",
              "      <th>1</th>\n",
              "      <td>2019-05-18 17:23:00</td>\n",
              "      <td>Saturday</td>\n",
              "      <td>Auburn</td>\n",
              "      <td>Auburn</td>\n",
              "      <td>0.0</td>\n",
              "      <td>15.5500</td>\n",
              "      <td>3.84</td>\n",
              "      <td>1.61</td>\n",
              "      <td>2.51</td>\n",
              "      <td>0.0</td>\n",
              "      <td>1.05</td>\n",
              "      <td>0.7</td>\n",
              "      <td>0.0</td>\n",
              "      <td>0.0</td>\n",
              "      <td>0.0</td>\n",
              "      <td>2.51</td>\n",
              "      <td>5.87</td>\n",
              "      <td>5.87</td>\n",
              "    </tr>\n",
              "    <tr>\n",
              "      <th>2</th>\n",
              "      <td>2019-05-18 17:56:00</td>\n",
              "      <td>Saturday</td>\n",
              "      <td>Auburn</td>\n",
              "      <td>Auburn</td>\n",
              "      <td>0.0</td>\n",
              "      <td>15.1167</td>\n",
              "      <td>3.35</td>\n",
              "      <td>1.41</td>\n",
              "      <td>2.43</td>\n",
              "      <td>0.0</td>\n",
              "      <td>1.05</td>\n",
              "      <td>0.7</td>\n",
              "      <td>0.0</td>\n",
              "      <td>0.0</td>\n",
              "      <td>0.0</td>\n",
              "      <td>2.40</td>\n",
              "      <td>5.59</td>\n",
              "      <td>5.59</td>\n",
              "    </tr>\n",
              "    <tr>\n",
              "      <th>3</th>\n",
              "      <td>2019-05-19 17:08:00</td>\n",
              "      <td>Sunday</td>\n",
              "      <td>Federal Way</td>\n",
              "      <td>Auburn</td>\n",
              "      <td>0.0</td>\n",
              "      <td>15.8000</td>\n",
              "      <td>3.23</td>\n",
              "      <td>1.36</td>\n",
              "      <td>2.54</td>\n",
              "      <td>0.0</td>\n",
              "      <td>1.05</td>\n",
              "      <td>0.7</td>\n",
              "      <td>0.0</td>\n",
              "      <td>0.0</td>\n",
              "      <td>0.0</td>\n",
              "      <td>2.42</td>\n",
              "      <td>5.65</td>\n",
              "      <td>5.65</td>\n",
              "    </tr>\n",
              "    <tr>\n",
              "      <th>4</th>\n",
              "      <td>2019-05-19 17:26:00</td>\n",
              "      <td>Sunday</td>\n",
              "      <td>Federal Way</td>\n",
              "      <td>Auburn</td>\n",
              "      <td>0.0</td>\n",
              "      <td>25.4167</td>\n",
              "      <td>14.06</td>\n",
              "      <td>5.91</td>\n",
              "      <td>4.74</td>\n",
              "      <td>0.0</td>\n",
              "      <td>1.05</td>\n",
              "      <td>0.7</td>\n",
              "      <td>0.0</td>\n",
              "      <td>0.0</td>\n",
              "      <td>0.0</td>\n",
              "      <td>5.31</td>\n",
              "      <td>12.40</td>\n",
              "      <td>12.40</td>\n",
              "    </tr>\n",
              "  </tbody>\n",
              "</table>\n",
              "</div>"
            ],
            "text/plain": [
              "     timestamp_pickup day_of_week  ...  total total_no_tip\n",
              "0 2019-05-18 16:53:00    Saturday  ...   7.37         7.37\n",
              "1 2019-05-18 17:23:00    Saturday  ...   5.87         5.87\n",
              "2 2019-05-18 17:56:00    Saturday  ...   5.59         5.59\n",
              "3 2019-05-19 17:08:00      Sunday  ...   5.65         5.65\n",
              "4 2019-05-19 17:26:00      Sunday  ...  12.40        12.40\n",
              "\n",
              "[5 rows x 18 columns]"
            ]
          },
          "metadata": {
            "tags": []
          },
          "execution_count": 310
        }
      ]
    },
    {
      "cell_type": "code",
      "metadata": {
        "id": "9SHpubNAMHXJ",
        "colab_type": "code",
        "colab": {
          "base_uri": "https://localhost:8080/",
          "height": 427
        },
        "outputId": "a16322a4-b5f1-423c-ace0-dde43bc0059b"
      },
      "source": [
        "fig = plt.figure(figsize=(15, 10))\n",
        "ax = fig.add_subplot(221)\n",
        "plt.style.use('fivethirtyeight')\n",
        "ax.scatter(df['duration_min'], df['total_no_tip'], alpha=.5, color='r')\n",
        "ax.set_ylabel('Total Without Tip ($)', labelpad=10)\n",
        "ax.set_xlabel('Duration (min)', labelpad=10)\n",
        "ax.set_xticks([0, 5, 10, 15, 20, 25, 30, 35, 40 ,45])\n",
        "ax.set_yticks([0, 2, 4, 6, 8, 10, 12, 14, 16 , 18])\n",
        "ax.text(s='Trip Duration vs Total without Tip', x=-2, y=20, fontsize=20, fontweight='bold', fontname='Comic Sans')\n",
        "ax.text(19, 5, s='Averge Duration', rotation='vertical', fontsize=10)\n",
        "ax.text(2, 8.5, s='Average Total', fontsize=10)\n",
        "ax.axvline(mean_duration, linewidth=1.5)\n",
        "ax.axhline(mean_total_no_tip, linewidth=1.5)\n",
        "plt.show()"
      ],
      "execution_count": 312,
      "outputs": [
        {
          "output_type": "display_data",
          "data": {
            "image/png": "[encoded data removed]",
            "text/plain": [
              "<Figure size 1080x720 with 1 Axes>"
            ]
          },
          "metadata": {
            "tags": []
          }
        }
      ]
    },
    {
      "cell_type": "code",
      "metadata": {
        "id": "ZyfHJ4lRO9zt",
        "colab_type": "code",
        "colab": {
          "base_uri": "https://localhost:8080/",
          "height": 728
        },
        "outputId": "28b31cfa-e87a-4acc-8ac9-d9abe6ec4385"
      },
      "source": [
        "fig = plt.figure(figsize=(15, 10))\n",
        "ax = fig.add_subplot(221)\n",
        "plt.style.use('fivethirtyeight')\n",
        "ax.scatter(df['day_of_week'], df['tips'], alpha=.5, color='r')\n",
        "ax.set_ylabel('Total Without Tip ($)', labelpad=10)\n",
        "ax.set_xlabel('Duration (min)', labelpad=10)\n",
        "ax.set_yticks([1, 2, 4, 6, 8, 10, 12, 14, 16 , 18])\n",
        "ax.text(s='Trip Duration vs Total without Tip', x=-2, y=20, fontsize=20, fontweight='bold', fontname='Comic Sans')\n",
        "\n",
        "plt.show()"
      ],
      "execution_count": 324,
      "outputs": [
        {
          "output_type": "error",
          "ename": "ValueError",
          "evalue": "ignored",
          "traceback": [
            "\u001b[0;31m---------------------------------------------------------------------------\u001b[0m",
            "\u001b[0;31mValueError\u001b[0m                                Traceback (most recent call last)",
            "\u001b[0;32m<ipython-input-324-ba18be5faf17>\u001b[0m in \u001b[0;36m<module>\u001b[0;34m()\u001b[0m\n\u001b[1;32m      2\u001b[0m \u001b[0max\u001b[0m \u001b[0;34m=\u001b[0m \u001b[0mfig\u001b[0m\u001b[0;34m.\u001b[0m\u001b[0madd_subplot\u001b[0m\u001b[0;34m(\u001b[0m\u001b[0;36m221\u001b[0m\u001b[0;34m)\u001b[0m\u001b[0;34m\u001b[0m\u001b[0;34m\u001b[0m\u001b[0m\n\u001b[1;32m      3\u001b[0m \u001b[0mplt\u001b[0m\u001b[0;34m.\u001b[0m\u001b[0mstyle\u001b[0m\u001b[0;34m.\u001b[0m\u001b[0muse\u001b[0m\u001b[0;34m(\u001b[0m\u001b[0;34m'fivethirtyeight'\u001b[0m\u001b[0;34m)\u001b[0m\u001b[0;34m\u001b[0m\u001b[0;34m\u001b[0m\u001b[0m\n\u001b[0;32m----> 4\u001b[0;31m \u001b[0max\u001b[0m\u001b[0;34m.\u001b[0m\u001b[0mscatter\u001b[0m\u001b[0;34m(\u001b[0m\u001b[0mdf\u001b[0m\u001b[0;34m[\u001b[0m\u001b[0;34m'day_of_week'\u001b[0m\u001b[0;34m]\u001b[0m\u001b[0;34m,\u001b[0m \u001b[0mdf\u001b[0m\u001b[0;34m[\u001b[0m\u001b[0;34m'tips'\u001b[0m\u001b[0;34m]\u001b[0m\u001b[0;34m.\u001b[0m\u001b[0mcount\u001b[0m\u001b[0;34m(\u001b[0m\u001b[0;34m)\u001b[0m\u001b[0;34m,\u001b[0m \u001b[0malpha\u001b[0m\u001b[0;34m=\u001b[0m\u001b[0;36m.5\u001b[0m\u001b[0;34m,\u001b[0m \u001b[0mcolor\u001b[0m\u001b[0;34m=\u001b[0m\u001b[0;34m'r'\u001b[0m\u001b[0;34m)\u001b[0m\u001b[0;34m\u001b[0m\u001b[0;34m\u001b[0m\u001b[0m\n\u001b[0m\u001b[1;32m      5\u001b[0m \u001b[0max\u001b[0m\u001b[0;34m.\u001b[0m\u001b[0mset_ylabel\u001b[0m\u001b[0;34m(\u001b[0m\u001b[0;34m'Total Without Tip ($)'\u001b[0m\u001b[0;34m,\u001b[0m \u001b[0mlabelpad\u001b[0m\u001b[0;34m=\u001b[0m\u001b[0;36m10\u001b[0m\u001b[0;34m)\u001b[0m\u001b[0;34m\u001b[0m\u001b[0;34m\u001b[0m\u001b[0m\n\u001b[1;32m      6\u001b[0m \u001b[0max\u001b[0m\u001b[0;34m.\u001b[0m\u001b[0mset_xlabel\u001b[0m\u001b[0;34m(\u001b[0m\u001b[0;34m'Duration (min)'\u001b[0m\u001b[0;34m,\u001b[0m \u001b[0mlabelpad\u001b[0m\u001b[0;34m=\u001b[0m\u001b[0;36m10\u001b[0m\u001b[0;34m)\u001b[0m\u001b[0;34m\u001b[0m\u001b[0;34m\u001b[0m\u001b[0m\n",
            "\u001b[0;32m/usr/local/lib/python3.6/dist-packages/matplotlib/__init__.py\u001b[0m in \u001b[0;36minner\u001b[0;34m(ax, data, *args, **kwargs)\u001b[0m\n\u001b[1;32m   1808\u001b[0m                         \u001b[0;34m\"the Matplotlib list!)\"\u001b[0m \u001b[0;34m%\u001b[0m \u001b[0;34m(\u001b[0m\u001b[0mlabel_namer\u001b[0m\u001b[0;34m,\u001b[0m \u001b[0mfunc\u001b[0m\u001b[0;34m.\u001b[0m\u001b[0m__name__\u001b[0m\u001b[0;34m)\u001b[0m\u001b[0;34m,\u001b[0m\u001b[0;34m\u001b[0m\u001b[0;34m\u001b[0m\u001b[0m\n\u001b[1;32m   1809\u001b[0m                         RuntimeWarning, stacklevel=2)\n\u001b[0;32m-> 1810\u001b[0;31m             \u001b[0;32mreturn\u001b[0m \u001b[0mfunc\u001b[0m\u001b[0;34m(\u001b[0m\u001b[0max\u001b[0m\u001b[0;34m,\u001b[0m \u001b[0;34m*\u001b[0m\u001b[0margs\u001b[0m\u001b[0;34m,\u001b[0m \u001b[0;34m**\u001b[0m\u001b[0mkwargs\u001b[0m\u001b[0;34m)\u001b[0m\u001b[0;34m\u001b[0m\u001b[0;34m\u001b[0m\u001b[0m\n\u001b[0m\u001b[1;32m   1811\u001b[0m \u001b[0;34m\u001b[0m\u001b[0m\n\u001b[1;32m   1812\u001b[0m         inner.__doc__ = _add_data_doc(inner.__doc__,\n",
            "\u001b[0;32m/usr/local/lib/python3.6/dist-packages/matplotlib/axes/_axes.py\u001b[0m in \u001b[0;36mscatter\u001b[0;34m(self, x, y, s, c, marker, cmap, norm, vmin, vmax, alpha, linewidths, verts, edgecolors, **kwargs)\u001b[0m\n\u001b[1;32m   4180\u001b[0m         \u001b[0my\u001b[0m \u001b[0;34m=\u001b[0m \u001b[0mnp\u001b[0m\u001b[0;34m.\u001b[0m\u001b[0mma\u001b[0m\u001b[0;34m.\u001b[0m\u001b[0mravel\u001b[0m\u001b[0;34m(\u001b[0m\u001b[0my\u001b[0m\u001b[0;34m)\u001b[0m\u001b[0;34m\u001b[0m\u001b[0;34m\u001b[0m\u001b[0m\n\u001b[1;32m   4181\u001b[0m         \u001b[0;32mif\u001b[0m \u001b[0mx\u001b[0m\u001b[0;34m.\u001b[0m\u001b[0msize\u001b[0m \u001b[0;34m!=\u001b[0m \u001b[0my\u001b[0m\u001b[0;34m.\u001b[0m\u001b[0msize\u001b[0m\u001b[0;34m:\u001b[0m\u001b[0;34m\u001b[0m\u001b[0;34m\u001b[0m\u001b[0m\n\u001b[0;32m-> 4182\u001b[0;31m             \u001b[0;32mraise\u001b[0m \u001b[0mValueError\u001b[0m\u001b[0;34m(\u001b[0m\u001b[0;34m\"x and y must be the same size\"\u001b[0m\u001b[0;34m)\u001b[0m\u001b[0;34m\u001b[0m\u001b[0;34m\u001b[0m\u001b[0m\n\u001b[0m\u001b[1;32m   4183\u001b[0m \u001b[0;34m\u001b[0m\u001b[0m\n\u001b[1;32m   4184\u001b[0m         \u001b[0;32mif\u001b[0m \u001b[0ms\u001b[0m \u001b[0;32mis\u001b[0m \u001b[0;32mNone\u001b[0m\u001b[0;34m:\u001b[0m\u001b[0;34m\u001b[0m\u001b[0;34m\u001b[0m\u001b[0m\n",
            "\u001b[0;31mValueError\u001b[0m: x and y must be the same size"
          ]
        },
        {
          "output_type": "display_data",
          "data": {
            "image/png": "[encoded data removed]",
            "text/plain": [
              "<Figure size 1080x720 with 1 Axes>"
            ]
          },
          "metadata": {
            "tags": []
          }
        }
      ]
    },
    {
      "cell_type": "code",
      "metadata": {
        "id": "Ud23iRcPb65n",
        "colab_type": "code",
        "colab": {
          "base_uri": "https://localhost:8080/",
          "height": 248
        },
        "outputId": "50445213-ace4-4d5e-b365-0f6e29e4ad13"
      },
      "source": [
        "df.head()"
      ],
      "execution_count": 319,
      "outputs": [
        {
          "output_type": "execute_result",
          "data": {
            "text/html": [
              "<div>\n",
              "<style scoped>\n",
              "    .dataframe tbody tr th:only-of-type {\n",
              "        vertical-align: middle;\n",
              "    }\n",
              "\n",
              "    .dataframe tbody tr th {\n",
              "        vertical-align: top;\n",
              "    }\n",
              "\n",
              "    .dataframe thead th {\n",
              "        text-align: right;\n",
              "    }\n",
              "</style>\n",
              "<table border=\"1\" class=\"dataframe\">\n",
              "  <thead>\n",
              "    <tr style=\"text-align: right;\">\n",
              "      <th></th>\n",
              "      <th>timestamp_pickup</th>\n",
              "      <th>day_of_week</th>\n",
              "      <th>start_city</th>\n",
              "      <th>end_city</th>\n",
              "      <th>double_delivery</th>\n",
              "      <th>duration_min</th>\n",
              "      <th>distance_miles</th>\n",
              "      <th>paid_distance</th>\n",
              "      <th>paid_time</th>\n",
              "      <th>min_fare_supplement</th>\n",
              "      <th>pickup_fee</th>\n",
              "      <th>dropoff_fee</th>\n",
              "      <th>tips</th>\n",
              "      <th>surge</th>\n",
              "      <th>boost</th>\n",
              "      <th>uber_receives</th>\n",
              "      <th>total</th>\n",
              "      <th>total_no_tip</th>\n",
              "    </tr>\n",
              "  </thead>\n",
              "  <tbody>\n",
              "    <tr>\n",
              "      <th>0</th>\n",
              "      <td>2019-05-18 16:53:00</td>\n",
              "      <td>Saturday</td>\n",
              "      <td>Auburn</td>\n",
              "      <td>Auburn</td>\n",
              "      <td>0.0</td>\n",
              "      <td>21.3000</td>\n",
              "      <td>5.22</td>\n",
              "      <td>2.19</td>\n",
              "      <td>3.43</td>\n",
              "      <td>0.0</td>\n",
              "      <td>1.05</td>\n",
              "      <td>0.7</td>\n",
              "      <td>0.0</td>\n",
              "      <td>0.0</td>\n",
              "      <td>0.0</td>\n",
              "      <td>3.16</td>\n",
              "      <td>7.37</td>\n",
              "      <td>7.37</td>\n",
              "    </tr>\n",
              "    <tr>\n",
              "      <th>1</th>\n",
              "      <td>2019-05-18 17:23:00</td>\n",
              "      <td>Saturday</td>\n",
              "      <td>Auburn</td>\n",
              "      <td>Auburn</td>\n",
              "      <td>0.0</td>\n",
              "      <td>15.5500</td>\n",
              "      <td>3.84</td>\n",
              "      <td>1.61</td>\n",
              "      <td>2.51</td>\n",
              "      <td>0.0</td>\n",
              "      <td>1.05</td>\n",
              "      <td>0.7</td>\n",
              "      <td>0.0</td>\n",
              "      <td>0.0</td>\n",
              "      <td>0.0</td>\n",
              "      <td>2.51</td>\n",
              "      <td>5.87</td>\n",
              "      <td>5.87</td>\n",
              "    </tr>\n",
              "    <tr>\n",
              "      <th>2</th>\n",
              "      <td>2019-05-18 17:56:00</td>\n",
              "      <td>Saturday</td>\n",
              "      <td>Auburn</td>\n",
              "      <td>Auburn</td>\n",
              "      <td>0.0</td>\n",
              "      <td>15.1167</td>\n",
              "      <td>3.35</td>\n",
              "      <td>1.41</td>\n",
              "      <td>2.43</td>\n",
              "      <td>0.0</td>\n",
              "      <td>1.05</td>\n",
              "      <td>0.7</td>\n",
              "      <td>0.0</td>\n",
              "      <td>0.0</td>\n",
              "      <td>0.0</td>\n",
              "      <td>2.40</td>\n",
              "      <td>5.59</td>\n",
              "      <td>5.59</td>\n",
              "    </tr>\n",
              "    <tr>\n",
              "      <th>3</th>\n",
              "      <td>2019-05-19 17:08:00</td>\n",
              "      <td>Sunday</td>\n",
              "      <td>Federal Way</td>\n",
              "      <td>Auburn</td>\n",
              "      <td>0.0</td>\n",
              "      <td>15.8000</td>\n",
              "      <td>3.23</td>\n",
              "      <td>1.36</td>\n",
              "      <td>2.54</td>\n",
              "      <td>0.0</td>\n",
              "      <td>1.05</td>\n",
              "      <td>0.7</td>\n",
              "      <td>0.0</td>\n",
              "      <td>0.0</td>\n",
              "      <td>0.0</td>\n",
              "      <td>2.42</td>\n",
              "      <td>5.65</td>\n",
              "      <td>5.65</td>\n",
              "    </tr>\n",
              "    <tr>\n",
              "      <th>4</th>\n",
              "      <td>2019-05-19 17:26:00</td>\n",
              "      <td>Sunday</td>\n",
              "      <td>Federal Way</td>\n",
              "      <td>Auburn</td>\n",
              "      <td>0.0</td>\n",
              "      <td>25.4167</td>\n",
              "      <td>14.06</td>\n",
              "      <td>5.91</td>\n",
              "      <td>4.74</td>\n",
              "      <td>0.0</td>\n",
              "      <td>1.05</td>\n",
              "      <td>0.7</td>\n",
              "      <td>0.0</td>\n",
              "      <td>0.0</td>\n",
              "      <td>0.0</td>\n",
              "      <td>5.31</td>\n",
              "      <td>12.40</td>\n",
              "      <td>12.40</td>\n",
              "    </tr>\n",
              "  </tbody>\n",
              "</table>\n",
              "</div>"
            ],
            "text/plain": [
              "     timestamp_pickup day_of_week  ...  total total_no_tip\n",
              "0 2019-05-18 16:53:00    Saturday  ...   7.37         7.37\n",
              "1 2019-05-18 17:23:00    Saturday  ...   5.87         5.87\n",
              "2 2019-05-18 17:56:00    Saturday  ...   5.59         5.59\n",
              "3 2019-05-19 17:08:00      Sunday  ...   5.65         5.65\n",
              "4 2019-05-19 17:26:00      Sunday  ...  12.40        12.40\n",
              "\n",
              "[5 rows x 18 columns]"
            ]
          },
          "metadata": {
            "tags": []
          },
          "execution_count": 319
        }
      ]
    },
    {
      "cell_type": "code",
      "metadata": {
        "id": "cXKfF5zvcmYI",
        "colab_type": "code",
        "colab": {}
      },
      "source": [
        ""
      ],
      "execution_count": 0,
      "outputs": []
    }
  ]
}