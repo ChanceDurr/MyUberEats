{
  "nbformat": 4,
  "nbformat_minor": 0,
  "metadata": {
    "colab": {
      "name": "seattlehourlywage.ipynb",
      "version": "0.3.2",
      "provenance": [],
      "collapsed_sections": [],
      "include_colab_link": true
    },
    "kernelspec": {
      "name": "python3",
      "display_name": "Python 3"
    }
  },
  "cells": [
    {
      "cell_type": "markdown",
      "metadata": {
        "id": "view-in-github",
        "colab_type": "text"
      },
      "source": [
        "<a href=\"https://colab.research.google.com/github/ChanceDurr/MyUberEats/blob/master/seattlehourlywage.ipynb\" target=\"_parent\"><img src=\"https://colab.research.google.com/assets/colab-badge.svg\" alt=\"Open In Colab\"/></a>"
      ]
    },
    {
      "cell_type": "code",
      "metadata": {
        "id": "79AhxHHhfxi7",
        "colab_type": "code",
        "colab": {}
      },
      "source": [
        "import pandas as pd\n",
        "import matplotlib.pyplot as plt\n",
        "import matplotlib\n",
        "import numpy as np"
      ],
      "execution_count": 0,
      "outputs": []
    },
    {
      "cell_type": "code",
      "metadata": {
        "id": "W0ewjQHEf3hR",
        "colab_type": "code",
        "colab": {}
      },
      "source": [
        "# Import CSV\n",
        "df = pd.read_csv('https://raw.githubusercontent.com/ChanceDurr/MyUberEats/master/City_of_Seattle_Wage_Data.csv',\n",
        "                 names=['department', 'last_name', 'first_name', 'job_title', 'hourly_rate'],\n",
        "                 header=0)"
      ],
      "execution_count": 0,
      "outputs": []
    },
    {
      "cell_type": "code",
      "metadata": {
        "id": "MjBvCKVVgH7H",
        "colab_type": "code",
        "outputId": "02ab4298-c730-41f4-efa6-ea9fc5d83a7b",
        "colab": {
          "base_uri": "https://localhost:8080/",
          "height": 304
        }
      },
      "source": [
        "value_counts = df['department'].value_counts() # Entire DataFrame \n",
        "keep = value_counts[value_counts >= 10].index\n",
        "keep"
      ],
      "execution_count": 213,
      "outputs": [
        {
          "output_type": "execute_result",
          "data": {
            "text/plain": [
              "Index(['Police Department', 'Seattle City Light', 'Parks & Recreation',\n",
              "       'Seattle Public Utilities', 'Fire Department',\n",
              "       'Seattle Dept of Transportation', 'Information Technology',\n",
              "       'Seattle Center', 'Finance & Admin Services',\n",
              "       'Human Services Department', 'Construction & Inspections',\n",
              "       'Legislative Department', 'Seattle Dept of Human Resource',\n",
              "       'Education & Early Learning', 'Neighborhoods',\n",
              "       'Planning & Comm Development', 'Arts & Culture', 'Office of Housing',\n",
              "       'City Budget Office', 'Mayor's Office',\n",
              "       'Office of Economic Development', 'Employees' Retirement System',\n",
              "       'Office for Civil Rights', 'Sustainability & Environment',\n",
              "       'Office of Labor Standards', 'Ethics & Elections Commission',\n",
              "       'City Auditor', 'Intergovernment Relations'],\n",
              "      dtype='object')"
            ]
          },
          "metadata": {
            "tags": []
          },
          "execution_count": 213
        }
      ]
    },
    {
      "cell_type": "code",
      "metadata": {
        "id": "uOjo7YB3B_Om",
        "colab_type": "code",
        "colab": {}
      },
      "source": [
        "df = df[df['department'].isin(keep)]"
      ],
      "execution_count": 0,
      "outputs": []
    },
    {
      "cell_type": "code",
      "metadata": {
        "id": "yZLAspk5gRb1",
        "colab_type": "code",
        "outputId": "19420131-9ba3-4fa1-a75d-8d4dab5c1768",
        "colab": {
          "base_uri": "https://localhost:8080/",
          "height": 585
        }
      },
      "source": [
        "# Create a series of hourly means for each department\n",
        "hourly_mean = df.groupby('department')['hourly_rate'].mean()\n",
        "hourly_mean = hourly_mean.sort_values(ascending=True)\n",
        "hourly_mean"
      ],
      "execution_count": 215,
      "outputs": [
        {
          "output_type": "execute_result",
          "data": {
            "text/plain": [
              "department\n",
              "Parks & Recreation                25.516000\n",
              "Seattle Center                    27.635516\n",
              "Arts & Culture                    34.227000\n",
              "Human Services Department         35.964157\n",
              "Finance & Admin Services          39.600256\n",
              "Office for Civil Rights           40.532219\n",
              "Education & Early Learning        40.535101\n",
              "Ethics & Elections Commission     40.577007\n",
              "Neighborhoods                     40.971966\n",
              "Office of Labor Standards         41.077680\n",
              "Seattle Public Utilities          41.124927\n",
              "Legislative Department            41.580341\n",
              "Seattle Dept of Transportation    41.822010\n",
              "Office of Housing                 43.667791\n",
              "Fire Department                   44.714129\n",
              "Construction & Inspections        44.851386\n",
              "Office of Economic Development    44.875971\n",
              "Seattle City Light                45.866894\n",
              "Employees' Retirement System      47.691485\n",
              "Sustainability & Environment      48.342400\n",
              "Planning & Comm Development       48.525106\n",
              "Seattle Dept of Human Resource    48.803258\n",
              "Police Department                 50.748450\n",
              "Mayor's Office                    51.783966\n",
              "Information Technology            53.034026\n",
              "City Budget Office                54.650174\n",
              "Intergovernment Relations         55.469727\n",
              "City Auditor                      56.526473\n",
              "Name: hourly_rate, dtype: float64"
            ]
          },
          "metadata": {
            "tags": []
          },
          "execution_count": 215
        }
      ]
    },
    {
      "cell_type": "code",
      "metadata": {
        "id": "Yf_L6KGBsCJb",
        "colab_type": "code",
        "outputId": "932f3eca-c498-42de-d475-db590878b4e8",
        "colab": {
          "base_uri": "https://localhost:8080/",
          "height": 585
        }
      },
      "source": [
        "# Create a series for highest paid positions by department\n",
        "hourly_max = df.groupby(['department'])['hourly_rate'].max()\n",
        "hourly_max = hourly_max.sort_values(ascending=True)\n",
        "hourly_max"
      ],
      "execution_count": 216,
      "outputs": [
        {
          "output_type": "execute_result",
          "data": {
            "text/plain": [
              "department\n",
              "Arts & Culture                     68.0070\n",
              "Neighborhoods                      70.4710\n",
              "Intergovernment Relations          73.4700\n",
              "Sustainability & Environment       75.2950\n",
              "Office of Housing                  76.0930\n",
              "City Auditor                       76.7089\n",
              "Ethics & Elections Commission      78.2111\n",
              "Office of Labor Standards          79.4090\n",
              "Office for Civil Rights            80.9500\n",
              "Human Services Department          81.4180\n",
              "Education & Early Learning         83.2760\n",
              "Planning & Comm Development        84.2680\n",
              "Construction & Inspections         85.8700\n",
              "Office of Economic Development     86.2069\n",
              "Seattle Center                     87.9438\n",
              "City Budget Office                 89.2130\n",
              "Finance & Admin Services           90.0000\n",
              "Legislative Department             90.0354\n",
              "Seattle Dept of Human Resource     94.3690\n",
              "Seattle Dept of Transportation     95.7854\n",
              "Mayor's Office                     96.0500\n",
              "Parks & Recreation                 97.7570\n",
              "Fire Department                   110.8060\n",
              "Employees' Retirement System      112.7580\n",
              "Information Technology            114.9430\n",
              "Police Department                 130.7480\n",
              "Seattle Public Utilities          137.7880\n",
              "Seattle City Light                162.8353\n",
              "Name: hourly_rate, dtype: float64"
            ]
          },
          "metadata": {
            "tags": []
          },
          "execution_count": 216
        }
      ]
    },
    {
      "cell_type": "code",
      "metadata": {
        "id": "TXQ04DHphZJK",
        "colab_type": "code",
        "outputId": "fca35757-cc88-470a-f1fb-9203177d6247",
        "colab": {
          "base_uri": "https://localhost:8080/",
          "height": 944
        }
      },
      "source": [
        "plt.style.use('seaborn')\n",
        "fig = plt.figure(figsize=(20, 30))\n",
        "ax = fig.add_subplot(221)\n",
        "\n",
        "# Add bar plot and scatter points\n",
        "ax.barh(hourly_mean.index, hourly_mean.values)\n",
        "ax.scatter(hourly_max, hourly_max.index)\n",
        "\n",
        "# Set the x ticks to a 20 increment\n",
        "ax.set_xticks([0, 20, 40, 60, 80, 100, 120, 140, 160])\n",
        "ax.set_xticklabels(['${:.2f}'.format(x) for x in range(0, 180, 20)])\n",
        "# Create the axis labels\n",
        "ax.set_ylabel('Seattle City Departments', labelpad=20, fontsize=20)\n",
        "ax.set_xlabel('Hourly Wages', labelpad=20, fontsize=20)\n",
        "\n",
        "# Create the title\n",
        "ax.set_title('Seattle Hourly Wages and Highest Paid', pad=20, fontsize=25)\n",
        "\n",
        "# Add the Seattle Average wage line\n",
        "ax.axvline(31.42, color='b', linewidth=1)\n",
        "\n",
        "# Add the Seattle Min Wage line\n",
        "ax.axvline(12, color='r', linewidth=1)\n",
        "\n",
        "# Add legend\n",
        "ax.legend(labels=['Seattle Average Wage', 'Seattle Minimum Wage', 'Highest Paid Person', 'Average Hourly Wage'])\n",
        "\n",
        "# Add text to ax lines\n",
        "ax.text(6, 28.9, s='$12.00')\n",
        "ax.text(26, 28.9, s='$31.42')\n",
        "\n",
        "# Add text to the highest paid person\n",
        "ax.text(147, 16.85, s=(f'${hourly_max[-1].round(2)}'))"
      ],
      "execution_count": 217,
      "outputs": [
        {
          "output_type": "execute_result",
          "data": {
            "text/plain": [
              "Text(147, 16.85, '$162.84')"
            ]
          },
          "metadata": {
            "tags": []
          },
          "execution_count": 217
        },
        {
          "output_type": "display_data",
          "data": {
            "image/png": "[encoded data removed]",
            "text/plain": [
              "<Figure size 1440x2160 with 1 Axes>"
            ]
          },
          "metadata": {
            "tags": []
          }
        }
      ]
    },
    {
      "cell_type": "code",
      "metadata": {
        "id": "R1lnidl9iNz6",
        "colab_type": "code",
        "colab": {
          "base_uri": "https://localhost:8080/",
          "height": 248
        },
        "outputId": "7a2f2fb0-d3eb-43a5-e8fa-7bb85b81d577"
      },
      "source": [
        "# Add a salary column\n",
        "df['salary'] = df['hourly_rate'] * 2080\n",
        "\n",
        "df.head()"
      ],
      "execution_count": 218,
      "outputs": [
        {
          "output_type": "execute_result",
          "data": {
            "text/html": [
              "<div>\n",
              "<style scoped>\n",
              "    .dataframe tbody tr th:only-of-type {\n",
              "        vertical-align: middle;\n",
              "    }\n",
              "\n",
              "    .dataframe tbody tr th {\n",
              "        vertical-align: top;\n",
              "    }\n",
              "\n",
              "    .dataframe thead th {\n",
              "        text-align: right;\n",
              "    }\n",
              "</style>\n",
              "<table border=\"1\" class=\"dataframe\">\n",
              "  <thead>\n",
              "    <tr style=\"text-align: right;\">\n",
              "      <th></th>\n",
              "      <th>department</th>\n",
              "      <th>last_name</th>\n",
              "      <th>first_name</th>\n",
              "      <th>job_title</th>\n",
              "      <th>hourly_rate</th>\n",
              "      <th>salary</th>\n",
              "    </tr>\n",
              "  </thead>\n",
              "  <tbody>\n",
              "    <tr>\n",
              "      <th>0</th>\n",
              "      <td>Construction &amp; Inspections</td>\n",
              "      <td>Jenkins</td>\n",
              "      <td>Eric</td>\n",
              "      <td>Housing/Zoning Inspector Supv</td>\n",
              "      <td>46.13</td>\n",
              "      <td>95950.4</td>\n",
              "    </tr>\n",
              "    <tr>\n",
              "      <th>1</th>\n",
              "      <td>Construction &amp; Inspections</td>\n",
              "      <td>McEachin</td>\n",
              "      <td>Shantel</td>\n",
              "      <td>Housing/Zoning Inspector</td>\n",
              "      <td>38.21</td>\n",
              "      <td>79476.8</td>\n",
              "    </tr>\n",
              "    <tr>\n",
              "      <th>2</th>\n",
              "      <td>Construction &amp; Inspections</td>\n",
              "      <td>Lum</td>\n",
              "      <td>Gregory</td>\n",
              "      <td>Housing/Zoning Inspector</td>\n",
              "      <td>38.21</td>\n",
              "      <td>79476.8</td>\n",
              "    </tr>\n",
              "    <tr>\n",
              "      <th>3</th>\n",
              "      <td>Construction &amp; Inspections</td>\n",
              "      <td>Patton</td>\n",
              "      <td>Valerie</td>\n",
              "      <td>Inspection Support Anlyst</td>\n",
              "      <td>41.89</td>\n",
              "      <td>87131.2</td>\n",
              "    </tr>\n",
              "    <tr>\n",
              "      <th>4</th>\n",
              "      <td>Police Department</td>\n",
              "      <td>Rivera</td>\n",
              "      <td>Martin</td>\n",
              "      <td>Pol Lieut</td>\n",
              "      <td>79.32</td>\n",
              "      <td>164985.6</td>\n",
              "    </tr>\n",
              "  </tbody>\n",
              "</table>\n",
              "</div>"
            ],
            "text/plain": [
              "                   department last_name  ... hourly_rate    salary\n",
              "0  Construction & Inspections   Jenkins  ...       46.13   95950.4\n",
              "1  Construction & Inspections  McEachin  ...       38.21   79476.8\n",
              "2  Construction & Inspections       Lum  ...       38.21   79476.8\n",
              "3  Construction & Inspections    Patton  ...       41.89   87131.2\n",
              "4           Police Department    Rivera  ...       79.32  164985.6\n",
              "\n",
              "[5 rows x 6 columns]"
            ]
          },
          "metadata": {
            "tags": []
          },
          "execution_count": 218
        }
      ]
    },
    {
      "cell_type": "code",
      "metadata": {
        "id": "q6WMCSCvl9Sm",
        "colab_type": "code",
        "colab": {
          "base_uri": "https://localhost:8080/",
          "height": 319
        },
        "outputId": "9fa2c014-2e3c-4379-da09-b4fcc7a3a6ab"
      },
      "source": [
        "# Create a salary adjusted for taking 1% of salary\n",
        "df['salary_adjusted'] = df['salary'] - (df['salary'] * 0.01)\n",
        "\n",
        "# Find the difference in the salaries\n",
        "df['salary_difference'] = df['salary'] - df['salary_adjusted']\n",
        "\n",
        "df.head()"
      ],
      "execution_count": 219,
      "outputs": [
        {
          "output_type": "execute_result",
          "data": {
            "text/html": [
              "<div>\n",
              "<style scoped>\n",
              "    .dataframe tbody tr th:only-of-type {\n",
              "        vertical-align: middle;\n",
              "    }\n",
              "\n",
              "    .dataframe tbody tr th {\n",
              "        vertical-align: top;\n",
              "    }\n",
              "\n",
              "    .dataframe thead th {\n",
              "        text-align: right;\n",
              "    }\n",
              "</style>\n",
              "<table border=\"1\" class=\"dataframe\">\n",
              "  <thead>\n",
              "    <tr style=\"text-align: right;\">\n",
              "      <th></th>\n",
              "      <th>department</th>\n",
              "      <th>last_name</th>\n",
              "      <th>first_name</th>\n",
              "      <th>job_title</th>\n",
              "      <th>hourly_rate</th>\n",
              "      <th>salary</th>\n",
              "      <th>salary_adjusted</th>\n",
              "      <th>salary_difference</th>\n",
              "    </tr>\n",
              "  </thead>\n",
              "  <tbody>\n",
              "    <tr>\n",
              "      <th>0</th>\n",
              "      <td>Construction &amp; Inspections</td>\n",
              "      <td>Jenkins</td>\n",
              "      <td>Eric</td>\n",
              "      <td>Housing/Zoning Inspector Supv</td>\n",
              "      <td>46.13</td>\n",
              "      <td>95950.4</td>\n",
              "      <td>94990.896</td>\n",
              "      <td>959.504</td>\n",
              "    </tr>\n",
              "    <tr>\n",
              "      <th>1</th>\n",
              "      <td>Construction &amp; Inspections</td>\n",
              "      <td>McEachin</td>\n",
              "      <td>Shantel</td>\n",
              "      <td>Housing/Zoning Inspector</td>\n",
              "      <td>38.21</td>\n",
              "      <td>79476.8</td>\n",
              "      <td>78682.032</td>\n",
              "      <td>794.768</td>\n",
              "    </tr>\n",
              "    <tr>\n",
              "      <th>2</th>\n",
              "      <td>Construction &amp; Inspections</td>\n",
              "      <td>Lum</td>\n",
              "      <td>Gregory</td>\n",
              "      <td>Housing/Zoning Inspector</td>\n",
              "      <td>38.21</td>\n",
              "      <td>79476.8</td>\n",
              "      <td>78682.032</td>\n",
              "      <td>794.768</td>\n",
              "    </tr>\n",
              "    <tr>\n",
              "      <th>3</th>\n",
              "      <td>Construction &amp; Inspections</td>\n",
              "      <td>Patton</td>\n",
              "      <td>Valerie</td>\n",
              "      <td>Inspection Support Anlyst</td>\n",
              "      <td>41.89</td>\n",
              "      <td>87131.2</td>\n",
              "      <td>86259.888</td>\n",
              "      <td>871.312</td>\n",
              "    </tr>\n",
              "    <tr>\n",
              "      <th>4</th>\n",
              "      <td>Police Department</td>\n",
              "      <td>Rivera</td>\n",
              "      <td>Martin</td>\n",
              "      <td>Pol Lieut</td>\n",
              "      <td>79.32</td>\n",
              "      <td>164985.6</td>\n",
              "      <td>163335.744</td>\n",
              "      <td>1649.856</td>\n",
              "    </tr>\n",
              "  </tbody>\n",
              "</table>\n",
              "</div>"
            ],
            "text/plain": [
              "                   department last_name  ... salary_adjusted salary_difference\n",
              "0  Construction & Inspections   Jenkins  ...       94990.896           959.504\n",
              "1  Construction & Inspections  McEachin  ...       78682.032           794.768\n",
              "2  Construction & Inspections       Lum  ...       78682.032           794.768\n",
              "3  Construction & Inspections    Patton  ...       86259.888           871.312\n",
              "4           Police Department    Rivera  ...      163335.744          1649.856\n",
              "\n",
              "[5 rows x 8 columns]"
            ]
          },
          "metadata": {
            "tags": []
          },
          "execution_count": 219
        }
      ]
    },
    {
      "cell_type": "code",
      "metadata": {
        "id": "6DChozW4mhsj",
        "colab_type": "code",
        "colab": {
          "base_uri": "https://localhost:8080/",
          "height": 76
        },
        "outputId": "bce1a1a6-9383-45ab-ce8f-fd87c7795afd"
      },
      "source": [
        "df['salary_difference'].sum().round(2)"
      ],
      "execution_count": 220,
      "outputs": [
        {
          "output_type": "execute_result",
          "data": {
            "text/plain": [
              "10679228.14"
            ]
          },
          "metadata": {
            "tags": []
          },
          "execution_count": 220
        }
      ]
    },
    {
      "cell_type": "code",
      "metadata": {
        "id": "Ctiwu6voj7Z-",
        "colab_type": "code",
        "colab": {
          "base_uri": "https://localhost:8080/",
          "height": 600
        },
        "outputId": "9a598dff-4365-4989-871f-82054b76f7b8"
      },
      "source": [
        "# Find the top 10 highest paid people\n",
        "\n",
        "highest_paid_top10 = df.sort_values(by='hourly_rate', ascending=False).head(10)\n",
        "highest_paid_top10"
      ],
      "execution_count": 221,
      "outputs": [
        {
          "output_type": "execute_result",
          "data": {
            "text/html": [
              "<div>\n",
              "<style scoped>\n",
              "    .dataframe tbody tr th:only-of-type {\n",
              "        vertical-align: middle;\n",
              "    }\n",
              "\n",
              "    .dataframe tbody tr th {\n",
              "        vertical-align: top;\n",
              "    }\n",
              "\n",
              "    .dataframe thead th {\n",
              "        text-align: right;\n",
              "    }\n",
              "</style>\n",
              "<table border=\"1\" class=\"dataframe\">\n",
              "  <thead>\n",
              "    <tr style=\"text-align: right;\">\n",
              "      <th></th>\n",
              "      <th>department</th>\n",
              "      <th>last_name</th>\n",
              "      <th>first_name</th>\n",
              "      <th>job_title</th>\n",
              "      <th>hourly_rate</th>\n",
              "      <th>salary</th>\n",
              "      <th>salary_adjusted</th>\n",
              "      <th>salary_difference</th>\n",
              "    </tr>\n",
              "  </thead>\n",
              "  <tbody>\n",
              "    <tr>\n",
              "      <th>4538</th>\n",
              "      <td>Seattle City Light</td>\n",
              "      <td>Smith</td>\n",
              "      <td>Deborah</td>\n",
              "      <td>City Light General Mgr&amp;CEO</td>\n",
              "      <td>162.8353</td>\n",
              "      <td>338697.424</td>\n",
              "      <td>335310.44976</td>\n",
              "      <td>3386.97424</td>\n",
              "    </tr>\n",
              "    <tr>\n",
              "      <th>69</th>\n",
              "      <td>Seattle Public Utilities</td>\n",
              "      <td>Hara</td>\n",
              "      <td>Mami</td>\n",
              "      <td>SPU General Mgr&amp;CEO</td>\n",
              "      <td>137.7880</td>\n",
              "      <td>286599.040</td>\n",
              "      <td>283733.04960</td>\n",
              "      <td>2865.99040</td>\n",
              "    </tr>\n",
              "    <tr>\n",
              "      <th>1614</th>\n",
              "      <td>Seattle City Light</td>\n",
              "      <td>Haynes</td>\n",
              "      <td>Michael</td>\n",
              "      <td>Electric Util Exec 3,Ofcr</td>\n",
              "      <td>131.7087</td>\n",
              "      <td>273954.096</td>\n",
              "      <td>271214.55504</td>\n",
              "      <td>2739.54096</td>\n",
              "    </tr>\n",
              "    <tr>\n",
              "      <th>4188</th>\n",
              "      <td>Police Department</td>\n",
              "      <td>Best</td>\n",
              "      <td>Carmen</td>\n",
              "      <td>Seattle Police Chief</td>\n",
              "      <td>130.7480</td>\n",
              "      <td>271955.840</td>\n",
              "      <td>269236.28160</td>\n",
              "      <td>2719.55840</td>\n",
              "    </tr>\n",
              "    <tr>\n",
              "      <th>7077</th>\n",
              "      <td>Seattle City Light</td>\n",
              "      <td>Baggs</td>\n",
              "      <td>James</td>\n",
              "      <td>Electric Util Exec 3,Ofcr</td>\n",
              "      <td>124.1570</td>\n",
              "      <td>258246.560</td>\n",
              "      <td>255664.09440</td>\n",
              "      <td>2582.46560</td>\n",
              "    </tr>\n",
              "    <tr>\n",
              "      <th>6913</th>\n",
              "      <td>Seattle City Light</td>\n",
              "      <td>Ziemianek</td>\n",
              "      <td>Bernard</td>\n",
              "      <td>Electric Util Exec 3,Ofcr</td>\n",
              "      <td>117.3116</td>\n",
              "      <td>244008.128</td>\n",
              "      <td>241568.04672</td>\n",
              "      <td>2440.08128</td>\n",
              "    </tr>\n",
              "    <tr>\n",
              "      <th>10353</th>\n",
              "      <td>Information Technology</td>\n",
              "      <td>Bashir</td>\n",
              "      <td>Saad</td>\n",
              "      <td>Executive4</td>\n",
              "      <td>114.9430</td>\n",
              "      <td>239081.440</td>\n",
              "      <td>236690.62560</td>\n",
              "      <td>2390.81440</td>\n",
              "    </tr>\n",
              "    <tr>\n",
              "      <th>9710</th>\n",
              "      <td>Employees' Retirement System</td>\n",
              "      <td>Malinowski</td>\n",
              "      <td>Jason</td>\n",
              "      <td>Executive4</td>\n",
              "      <td>112.7580</td>\n",
              "      <td>234536.640</td>\n",
              "      <td>232191.27360</td>\n",
              "      <td>2345.36640</td>\n",
              "    </tr>\n",
              "    <tr>\n",
              "      <th>7523</th>\n",
              "      <td>Police Department</td>\n",
              "      <td>Garth Green</td>\n",
              "      <td>Marc</td>\n",
              "      <td>Executive4</td>\n",
              "      <td>110.9220</td>\n",
              "      <td>230717.760</td>\n",
              "      <td>228410.58240</td>\n",
              "      <td>2307.17760</td>\n",
              "    </tr>\n",
              "    <tr>\n",
              "      <th>6243</th>\n",
              "      <td>Fire Department</td>\n",
              "      <td>Scoggins</td>\n",
              "      <td>Harold</td>\n",
              "      <td>Executive4</td>\n",
              "      <td>110.8060</td>\n",
              "      <td>230476.480</td>\n",
              "      <td>228171.71520</td>\n",
              "      <td>2304.76480</td>\n",
              "    </tr>\n",
              "  </tbody>\n",
              "</table>\n",
              "</div>"
            ],
            "text/plain": [
              "                         department  ... salary_difference\n",
              "4538             Seattle City Light  ...        3386.97424\n",
              "69         Seattle Public Utilities  ...        2865.99040\n",
              "1614             Seattle City Light  ...        2739.54096\n",
              "4188              Police Department  ...        2719.55840\n",
              "7077             Seattle City Light  ...        2582.46560\n",
              "6913             Seattle City Light  ...        2440.08128\n",
              "10353        Information Technology  ...        2390.81440\n",
              "9710   Employees' Retirement System  ...        2345.36640\n",
              "7523              Police Department  ...        2307.17760\n",
              "6243                Fire Department  ...        2304.76480\n",
              "\n",
              "[10 rows x 8 columns]"
            ]
          },
          "metadata": {
            "tags": []
          },
          "execution_count": 221
        }
      ]
    },
    {
      "cell_type": "code",
      "metadata": {
        "id": "yLwcMfZ_2V9H",
        "colab_type": "code",
        "colab": {
          "base_uri": "https://localhost:8080/",
          "height": 568
        },
        "outputId": "d19e7179-20cc-4082-f6df-f876f4fd7f5e"
      },
      "source": [
        "df['department'].value_counts()"
      ],
      "execution_count": 222,
      "outputs": [
        {
          "output_type": "execute_result",
          "data": {
            "text/plain": [
              "Police Department                 1953\n",
              "Seattle City Light                1776\n",
              "Parks & Recreation                1664\n",
              "Seattle Public Utilities          1398\n",
              "Fire Department                   1099\n",
              "Seattle Dept of Transportation     988\n",
              "Information Technology             689\n",
              "Seattle Center                     671\n",
              "Finance & Admin Services           560\n",
              "Human Services Department          395\n",
              "Construction & Inspections         373\n",
              "Legislative Department             117\n",
              "Seattle Dept of Human Resource     104\n",
              "Education & Early Learning          79\n",
              "Neighborhoods                       59\n",
              "Planning & Comm Development         47\n",
              "Arts & Culture                      46\n",
              "Office of Housing                   43\n",
              "City Budget Office                  39\n",
              "Office of Economic Development      38\n",
              "Mayor's Office                      38\n",
              "Employees' Retirement System        33\n",
              "Office for Civil Rights             32\n",
              "Sustainability & Environment        30\n",
              "Office of Labor Standards           25\n",
              "Ethics & Elections Commission       14\n",
              "Intergovernment Relations           11\n",
              "City Auditor                        11\n",
              "Name: department, dtype: int64"
            ]
          },
          "metadata": {
            "tags": []
          },
          "execution_count": 222
        }
      ]
    },
    {
      "cell_type": "code",
      "metadata": {
        "id": "g-jYg72j2WkA",
        "colab_type": "code",
        "colab": {
          "base_uri": "https://localhost:8080/",
          "height": 344
        },
        "outputId": "16877091-2659-4b7f-eeca-e788da174039"
      },
      "source": [
        "df.describe()"
      ],
      "execution_count": 223,
      "outputs": [
        {
          "output_type": "execute_result",
          "data": {
            "text/html": [
              "<div>\n",
              "<style scoped>\n",
              "    .dataframe tbody tr th:only-of-type {\n",
              "        vertical-align: middle;\n",
              "    }\n",
              "\n",
              "    .dataframe tbody tr th {\n",
              "        vertical-align: top;\n",
              "    }\n",
              "\n",
              "    .dataframe thead th {\n",
              "        text-align: right;\n",
              "    }\n",
              "</style>\n",
              "<table border=\"1\" class=\"dataframe\">\n",
              "  <thead>\n",
              "    <tr style=\"text-align: right;\">\n",
              "      <th></th>\n",
              "      <th>hourly_rate</th>\n",
              "      <th>salary</th>\n",
              "      <th>salary_adjusted</th>\n",
              "      <th>salary_difference</th>\n",
              "    </tr>\n",
              "  </thead>\n",
              "  <tbody>\n",
              "    <tr>\n",
              "      <th>count</th>\n",
              "      <td>12332.000000</td>\n",
              "      <td>12332.000000</td>\n",
              "      <td>12332.000000</td>\n",
              "      <td>12332.000000</td>\n",
              "    </tr>\n",
              "    <tr>\n",
              "      <th>mean</th>\n",
              "      <td>41.633509</td>\n",
              "      <td>86597.698149</td>\n",
              "      <td>85731.721167</td>\n",
              "      <td>865.976981</td>\n",
              "    </tr>\n",
              "    <tr>\n",
              "      <th>std</th>\n",
              "      <td>15.168241</td>\n",
              "      <td>31549.940761</td>\n",
              "      <td>31234.441354</td>\n",
              "      <td>315.499408</td>\n",
              "    </tr>\n",
              "    <tr>\n",
              "      <th>min</th>\n",
              "      <td>16.000000</td>\n",
              "      <td>33280.000000</td>\n",
              "      <td>32947.200000</td>\n",
              "      <td>332.800000</td>\n",
              "    </tr>\n",
              "    <tr>\n",
              "      <th>25%</th>\n",
              "      <td>30.310000</td>\n",
              "      <td>63044.800000</td>\n",
              "      <td>62414.352000</td>\n",
              "      <td>630.448000</td>\n",
              "    </tr>\n",
              "    <tr>\n",
              "      <th>50%</th>\n",
              "      <td>41.260000</td>\n",
              "      <td>85820.800000</td>\n",
              "      <td>84962.592000</td>\n",
              "      <td>858.208000</td>\n",
              "    </tr>\n",
              "    <tr>\n",
              "      <th>75%</th>\n",
              "      <td>52.130000</td>\n",
              "      <td>108430.400000</td>\n",
              "      <td>107346.096000</td>\n",
              "      <td>1084.304000</td>\n",
              "    </tr>\n",
              "    <tr>\n",
              "      <th>max</th>\n",
              "      <td>162.835300</td>\n",
              "      <td>338697.424000</td>\n",
              "      <td>335310.449760</td>\n",
              "      <td>3386.974240</td>\n",
              "    </tr>\n",
              "  </tbody>\n",
              "</table>\n",
              "</div>"
            ],
            "text/plain": [
              "        hourly_rate         salary  salary_adjusted  salary_difference\n",
              "count  12332.000000   12332.000000     12332.000000       12332.000000\n",
              "mean      41.633509   86597.698149     85731.721167         865.976981\n",
              "std       15.168241   31549.940761     31234.441354         315.499408\n",
              "min       16.000000   33280.000000     32947.200000         332.800000\n",
              "25%       30.310000   63044.800000     62414.352000         630.448000\n",
              "50%       41.260000   85820.800000     84962.592000         858.208000\n",
              "75%       52.130000  108430.400000    107346.096000        1084.304000\n",
              "max      162.835300  338697.424000    335310.449760        3386.974240"
            ]
          },
          "metadata": {
            "tags": []
          },
          "execution_count": 223
        }
      ]
    },
    {
      "cell_type": "code",
      "metadata": {
        "id": "fbuq-8ERvloF",
        "colab_type": "code",
        "colab": {
          "base_uri": "https://localhost:8080/",
          "height": 76
        },
        "outputId": "feb7f429-b602-4b75-f2d6-0e24567c5228"
      },
      "source": [
        "sal_sum = df['salary'].sum()\n",
        "sal_dif_sum = df['salary_difference'].sum()\n",
        "sal_sum, sal_dif_sum"
      ],
      "execution_count": 224,
      "outputs": [
        {
          "output_type": "execute_result",
          "data": {
            "text/plain": [
              "(1067922813.5680001, 10679228.13568)"
            ]
          },
          "metadata": {
            "tags": []
          },
          "execution_count": 224
        }
      ]
    },
    {
      "cell_type": "code",
      "metadata": {
        "id": "_yxxBwRVOEJG",
        "colab_type": "code",
        "colab": {
          "base_uri": "https://localhost:8080/",
          "height": 314
        },
        "outputId": "1246cd84-e3fb-45d8-d184-aea08fe9375d"
      },
      "source": [
        "plt.style.use('seaborn')\n",
        "fig = plt.figure(figsize=(20, 5))\n",
        "ax = fig.add_subplot(221)\n",
        "\n",
        "# Add bar plot\n",
        "ax.barh(['Salary Total', 'Salary Pay Cut Sum'], [sal_sum, sal_dif_sum]);\n",
        "ax.set_xticks([0, 200000000, 400000000, 600000000, 800000000, 1000000000, 1200000000])\n",
        "ax.set_xticklabels(['0', '200M', '400M', '600M', '800M', '1B', '1.2B'])"
      ],
      "execution_count": 234,
      "outputs": [
        {
          "output_type": "execute_result",
          "data": {
            "text/plain": [
              "[Text(0, 0, '0'),\n",
              " Text(0, 0, '200M'),\n",
              " Text(0, 0, '400M'),\n",
              " Text(0, 0, '600M'),\n",
              " Text(0, 0, '800M'),\n",
              " Text(0, 0, '1B'),\n",
              " Text(0, 0, '1.2B')]"
            ]
          },
          "metadata": {
            "tags": []
          },
          "execution_count": 234
        },
        {
          "output_type": "display_data",
          "data": {
            "image/png": "[encoded data removed]",
            "text/plain": [
              "<Figure size 1440x360 with 1 Axes>"
            ]
          },
          "metadata": {
            "tags": []
          }
        }
      ]
    },
    {
      "cell_type": "code",
      "metadata": {
        "id": "G1gjjIS5v9dS",
        "colab_type": "code",
        "colab": {}
      },
      "source": [
        ""
      ],
      "execution_count": 0,
      "outputs": []
    }
  ]
}